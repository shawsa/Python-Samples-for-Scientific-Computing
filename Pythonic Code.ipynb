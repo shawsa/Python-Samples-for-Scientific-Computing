{
 "cells": [
  {
   "cell_type": "markdown",
   "metadata": {},
   "source": [
    "I have observed a tendency in those new to Python to write in a procedural, nested-loop-heavy, index-heavy style reminiscent of C, Fortran, or Matlab. Matlab was heavily influenced by Fortran and both C and Fortran are fairly low-level languages in which this style is often necessary. Python, however, is a high-level scripting language and has preferred alternatives to this style. Indices should be avoided, and can be avoided in most cases. A weaker, but similar statement can be made for loops, and in particular nested loops. In general, you should read and follow [PEP8](https://www.python.org/dev/peps/pep-0008/#code-lay-out) - the canonical python style guide.\n",
    "\n",
    "Since the style guide is rather long, and very general, I have compiled some examples comparing pythonic and non-pythonic code.\n",
    "\n",
    "When in doubt, remember this."
   ]
  },
  {
   "cell_type": "code",
   "execution_count": 1,
   "metadata": {},
   "outputs": [
    {
     "name": "stdout",
     "output_type": "stream",
     "text": [
      "The Zen of Python, by Tim Peters\n",
      "\n",
      "Beautiful is better than ugly.\n",
      "Explicit is better than implicit.\n",
      "Simple is better than complex.\n",
      "Complex is better than complicated.\n",
      "Flat is better than nested.\n",
      "Sparse is better than dense.\n",
      "Readability counts.\n",
      "Special cases aren't special enough to break the rules.\n",
      "Although practicality beats purity.\n",
      "Errors should never pass silently.\n",
      "Unless explicitly silenced.\n",
      "In the face of ambiguity, refuse the temptation to guess.\n",
      "There should be one-- and preferably only one --obvious way to do it.\n",
      "Although that way may not be obvious at first unless you're Dutch.\n",
      "Now is better than never.\n",
      "Although never is often better than *right* now.\n",
      "If the implementation is hard to explain, it's a bad idea.\n",
      "If the implementation is easy to explain, it may be a good idea.\n",
      "Namespaces are one honking great idea -- let's do more of those!\n"
     ]
    }
   ],
   "source": [
    "import this"
   ]
  },
  {
   "cell_type": "code",
   "execution_count": 3,
   "metadata": {},
   "outputs": [],
   "source": [
    "import numpy as np"
   ]
  },
  {
   "cell_type": "markdown",
   "metadata": {},
   "source": [
    "# Unpacking"
   ]
  },
  {
   "cell_type": "markdown",
   "metadata": {},
   "source": [
    "It is a common occurrence in scientific codes to update variables. Often the procedural nature of our programming languages necessitate steps to be taken in a particular order, or for us to use temporary variables. Python supports tuple/list unpacking that greatly improves readability in these cases."
   ]
  },
  {
   "cell_type": "markdown",
   "metadata": {},
   "source": [
    "### Example - Row Swapping\n",
    "Suppose we wish to swap the first and last row of a matrix. This would be the C style approach - very unpythonic."
   ]
  },
  {
   "cell_type": "code",
   "execution_count": 15,
   "metadata": {},
   "outputs": [
    {
     "name": "stdout",
     "output_type": "stream",
     "text": [
      "[[ 0  1  2  3  4]\n",
      " [ 5  6  7  8  9]\n",
      " [10 11 12 13 14]\n",
      " [15 16 17 18 19]\n",
      " [20 21 22 23 24]\n",
      " [25 26 27 28 29]]\n",
      "\n",
      "Rows 0 and 5 have been swapped.\n",
      "\n",
      "[[25 26 27 28 29]\n",
      " [ 5  6  7  8  9]\n",
      " [10 11 12 13 14]\n",
      " [15 16 17 18 19]\n",
      " [20 21 22 23 24]\n",
      " [ 0  1  2  3  4]]\n"
     ]
    }
   ],
   "source": [
    "A = np.arange(30).reshape((6,5))\n",
    "print(A)\n",
    "\n",
    "i1 = 0\n",
    "i2 = A.shape[0]-1 # last row index\n",
    "num_cols = A.shape[1]\n",
    "for i in range(num_cols):\n",
    "    temp = A[i1, i]\n",
    "    A[i1, i] = A[i2, i]\n",
    "    A[i2, i] = temp\n",
    "print(f'\\nRows {i1} and {i2} have been swapped.\\n')\n",
    "print(A)"
   ]
  },
  {
   "cell_type": "markdown",
   "metadata": {},
   "source": [
    "Here is a more pythonic version. We use unpacking to make multiple assignment statements simultaneously without declaring a temporary variable. This works by computing each expression in the right hand side with the current environment, and after the values have been computed we store them in variables on the right hand side."
   ]
  },
  {
   "cell_type": "code",
   "execution_count": 36,
   "metadata": {},
   "outputs": [
    {
     "name": "stdout",
     "output_type": "stream",
     "text": [
      "[[ 0  1  2  3  4]\n",
      " [ 5  6  7  8  9]\n",
      " [10 11 12 13 14]\n",
      " [15 16 17 18 19]\n",
      " [20 21 22 23 24]\n",
      " [25 26 27 28 29]]\n",
      "\n",
      "The first and last rows have been swapped.\n",
      "\n",
      "[[25 26 27 28 29]\n",
      " [ 5  6  7  8  9]\n",
      " [10 11 12 13 14]\n",
      " [15 16 17 18 19]\n",
      " [20 21 22 23 24]\n",
      " [ 0  1  2  3  4]]\n"
     ]
    }
   ],
   "source": [
    "A = np.arange(30).reshape((6,5))\n",
    "print(A)\n",
    "\n",
    "num_cols = A.shape[1]\n",
    "for col_index in range(num_cols):\n",
    "    A[0, col_index], A[-1, col_index] = A[-1, col_index], A[0, col_index]\n",
    "print(f'\\nThe first and last rows have been swapped.\\n')\n",
    "print(A)"
   ]
  },
  {
   "cell_type": "markdown",
   "metadata": {},
   "source": [
    "Of course, Numpy supports row slicing, so the best method is this."
   ]
  },
  {
   "cell_type": "code",
   "execution_count": 37,
   "metadata": {},
   "outputs": [
    {
     "name": "stdout",
     "output_type": "stream",
     "text": [
      "[[ 0  1  2  3  4]\n",
      " [ 5  6  7  8  9]\n",
      " [10 11 12 13 14]\n",
      " [15 16 17 18 19]\n",
      " [20 21 22 23 24]\n",
      " [25 26 27 28 29]]\n",
      "\n",
      "The first and last rows have been swapped.\n",
      "\n",
      "[[25 26 27 28 29]\n",
      " [ 5  6  7  8  9]\n",
      " [10 11 12 13 14]\n",
      " [15 16 17 18 19]\n",
      " [20 21 22 23 24]\n",
      " [25 26 27 28 29]]\n"
     ]
    }
   ],
   "source": [
    "A = np.arange(30).reshape((6,5))\n",
    "print(A)\n",
    "\n",
    "A[0], A[-1] = A[-1], A[0]\n",
    "\n",
    "print(f'\\nThe first and last rows have been swapped.\\n')\n",
    "print(A)"
   ]
  },
  {
   "cell_type": "markdown",
   "metadata": {},
   "source": [
    "### Example - Fibonacci"
   ]
  },
  {
   "cell_type": "markdown",
   "metadata": {},
   "source": [
    "Here is a C-style way to compute Fibonacci numbers. Not very pythonic."
   ]
  },
  {
   "cell_type": "code",
   "execution_count": 38,
   "metadata": {},
   "outputs": [
    {
     "name": "stdout",
     "output_type": "stream",
     "text": [
      "0\n",
      "1\n",
      "1\n",
      "2\n",
      "3\n",
      "5\n",
      "8\n",
      "13\n",
      "21\n",
      "34\n"
     ]
    }
   ],
   "source": [
    "x1 = 0\n",
    "x2 = 1\n",
    "print(x1)\n",
    "print(x2)\n",
    "for i in range(8):\n",
    "    temp = x2\n",
    "    x2 = x1 + x2\n",
    "    x1 = temp\n",
    "    print(x2)"
   ]
  },
  {
   "cell_type": "markdown",
   "metadata": {},
   "source": [
    "Here is a more pythonic version. Notice that we use unpacking to update both variables simultaneously. This reduces the number of lines and the need for the temporary variable. Also, the loop counter is not used, so we use the variable name `_` to indicate to human readers that it is not important."
   ]
  },
  {
   "cell_type": "code",
   "execution_count": 39,
   "metadata": {},
   "outputs": [
    {
     "name": "stdout",
     "output_type": "stream",
     "text": [
      "0\n",
      "1\n",
      "1\n",
      "2\n",
      "3\n",
      "5\n",
      "8\n",
      "13\n",
      "21\n",
      "34\n"
     ]
    }
   ],
   "source": [
    "x1, x2 = 0, 1\n",
    "print(x1)\n",
    "print(x2)\n",
    "for _ in range(8):\n",
    "    x1, x2 = x2, x1+x2\n",
    "    print(x2)"
   ]
  },
  {
   "cell_type": "markdown",
   "metadata": {},
   "source": [
    "# Indices and Iteration"
   ]
  },
  {
   "cell_type": "markdown",
   "metadata": {},
   "source": [
    "Generally, avoid looping over indices unless absolutely necessary. In fact, avoid looping syntax when possible in favor of list comprehensions or generator expressions. "
   ]
  },
  {
   "cell_type": "markdown",
   "metadata": {},
   "source": [
    "### Sum of Squares"
   ]
  },
  {
   "cell_type": "markdown",
   "metadata": {},
   "source": [
    "Here is a C-style way of find the sum of the squares of list elements. Not very pythonic."
   ]
  },
  {
   "cell_type": "code",
   "execution_count": 73,
   "metadata": {},
   "outputs": [],
   "source": [
    "my_list = list(range(10**2))"
   ]
  },
  {
   "cell_type": "code",
   "execution_count": 76,
   "metadata": {},
   "outputs": [
    {
     "name": "stdout",
     "output_type": "stream",
     "text": [
      "328350\n"
     ]
    }
   ],
   "source": [
    "SOS = 0\n",
    "for i in range(len(my_list)):\n",
    "    SOS += my_list[i]**2\n",
    "print(SOS)"
   ]
  },
  {
   "cell_type": "markdown",
   "metadata": {},
   "source": [
    "Here is a more pythonic version. Notice that we are not using indices, and we have replaced the loop in favor of a generator expression. We have also replaced the abbreviated name `SOS` with a more explicit variable name `sum_of_squares`. This last point is more of a recommendation; in scientific computing we often have common, well-known abbreviations. Use your best judgment. "
   ]
  },
  {
   "cell_type": "code",
   "execution_count": 78,
   "metadata": {},
   "outputs": [
    {
     "name": "stdout",
     "output_type": "stream",
     "text": [
      "328350\n"
     ]
    }
   ],
   "source": [
    "sum_of_squares = sum(x**2 for x in my_list)\n",
    "print(sum_of_squares)"
   ]
  },
  {
   "cell_type": "markdown",
   "metadata": {},
   "source": [
    "### Differentiating a Polynomial"
   ]
  },
  {
   "cell_type": "markdown",
   "metadata": {},
   "source": [
    "Here is a C-style code that differentiates a polynomial given as a list of coefficients. Not very pythonic."
   ]
  },
  {
   "cell_type": "code",
   "execution_count": 96,
   "metadata": {},
   "outputs": [
    {
     "name": "stdout",
     "output_type": "stream",
     "text": [
      "[0, 8, 6, -12, 35]\n",
      "0x^0 + 8x^1 + 6x^2 + -12x^3 + 35x^4\n"
     ]
    }
   ],
   "source": [
    "p = [1, 0, 4, 2, -3, 7] # representing 1 + 4x^2 +2x^3 - 3x^4 + 7x^5\n",
    "# compute the dervative\n",
    "pdx = []\n",
    "for i in range(1, len(p)):\n",
    "    pdx.append( i*p[i] )\n",
    "print(pdx)\n",
    "# print the string representation\n",
    "pdx_string = ''\n",
    "for i in range(len(pdx)):\n",
    "    pdx_string += f'{pdx[i]}x^{i} + '\n",
    "pdx_string = pdx_string[:-3] # remove final plus sign\n",
    "print(pdx_string)"
   ]
  },
  {
   "cell_type": "markdown",
   "metadata": {},
   "source": [
    "Here is a more pythonic version of the same code. In differentiating these polynomials, the index represents the exponent on the variable, and thus we must use it to compute the derivative. In this case, we use the `enumerate` function to get the index and the coefficient rather than indexing. We also refer to the index as `power` because that is a more informative name in this context. \n",
    "\n",
    "We avoid looping here by using a list comprehension and a generator expression.\n",
    "\n",
    "We also use the `join` function of the string object with a generator expression to combine terms with plus signs between them. This avoids the need for looping, and the need to remove the final plus sign. \n",
    "\n",
    "We also define functions to differentiate and create the string representations. Not only are they reusable, but they provide a natural way to organize the code. The function names effectively replace the comments in the above example. Generally, you should not need to comment your code. If your code is complex enough that it needs a comment, consider rewriting it so that it is more clear what it does. Expressive variable and function names can replace most comments. This is good advice for general code, however, it can be appropriate to use comments in certain circumstances. Use your best judgment in deciding what is most clear."
   ]
  },
  {
   "cell_type": "code",
   "execution_count": 98,
   "metadata": {},
   "outputs": [
    {
     "name": "stdout",
     "output_type": "stream",
     "text": [
      "[0, 8, 6, -12, 35]\n",
      "0x^0 + 8x^1 + 6x^2 + -12x^3 + 35x^4\n"
     ]
    }
   ],
   "source": [
    "polynomial = [1, 0, 4, 2, -3, 7] # representing 1 + 4x^2 +2x^3 - 3x^4 + 7x^5\n",
    "\n",
    "def polynomial_differentiate(poly):\n",
    "    return [power*coeff \n",
    "            for power, coeff in enumerate(poly)\n",
    "            if power is not 0]\n",
    "\n",
    "derivative = polynomial_differentiate(polynomial)\n",
    "print(derivative)\n",
    "\n",
    "def polynomial_to_string(poly):\n",
    "    terms = (f'{coeff}x^{power}' \n",
    "             for power, coeff in enumerate(poly))\n",
    "    return ' + '.join(terms)\n",
    "\n",
    "print(polynomial_to_string(derivative))"
   ]
  },
  {
   "cell_type": "markdown",
   "metadata": {},
   "source": [
    "# Nested Iteration"
   ]
  },
  {
   "cell_type": "markdown",
   "metadata": {},
   "source": [
    "In scientific computing, we often nest loops several levels deep. Here is an example that prints all third degree polynomials with unit coefficients in $\\mathbb{R}^3$. This is not an efficient way to find them, rather it is a motivating example as it has excessive indentation. It is not pythonic."
   ]
  },
  {
   "cell_type": "code",
   "execution_count": 128,
   "metadata": {},
   "outputs": [
    {
     "name": "stdout",
     "output_type": "stream",
     "text": [
      "x^0 * y^0 * z^3\n",
      "x^0 * y^1 * z^2\n",
      "x^0 * y^2 * z^1\n",
      "x^0 * y^3 * z^0\n",
      "x^1 * y^0 * z^2\n",
      "x^1 * y^1 * z^1\n",
      "x^1 * y^2 * z^0\n",
      "x^2 * y^0 * z^1\n",
      "x^2 * y^1 * z^0\n",
      "x^3 * y^0 * z^0\n"
     ]
    }
   ],
   "source": [
    "for i in range(4):\n",
    "    for j in range(4):\n",
    "        for k in range(4):\n",
    "            if i + j + k == 3:\n",
    "                print(f'x^{i} * y^{j} * z^{k}')"
   ]
  },
  {
   "cell_type": "markdown",
   "metadata": {},
   "source": [
    "We can avoid nesting loops by using the `product` function from the `itertools` package. We also include our filtering conditional in the generator expression. Note how we use more descriptive variable names for the printing loop. Also note that we have avoided *magic numbers* in favor of giving them variable names `target_degree` and `dimension`."
   ]
  },
  {
   "cell_type": "code",
   "execution_count": 171,
   "metadata": {},
   "outputs": [
    {
     "name": "stdout",
     "output_type": "stream",
     "text": [
      "x^0 * y^0 * z^3\n",
      "x^0 * y^1 * z^2\n",
      "x^0 * y^2 * z^1\n",
      "x^0 * y^3 * z^0\n",
      "x^1 * y^0 * z^2\n",
      "x^1 * y^1 * z^1\n",
      "x^1 * y^2 * z^0\n",
      "x^2 * y^0 * z^1\n",
      "x^2 * y^1 * z^0\n",
      "x^3 * y^0 * z^0\n"
     ]
    }
   ],
   "source": [
    "from itertools import product\n",
    "target_degree = 3\n",
    "polynomial_dimension = 3\n",
    "exponent_generator = (exponents \n",
    "                      for exponents in product(range(target_degree+1), repeat=polynomial_dimension)\n",
    "                      if sum(exponents) == target_degree)\n",
    "\n",
    "for x_power, y_power, z_power in exponent_generator:\n",
    "    print(f'x^{x_power} * y^{y_power} * z^{z_power}')"
   ]
  },
  {
   "cell_type": "markdown",
   "metadata": {},
   "source": [
    "### Example - Sum of Cubes"
   ]
  },
  {
   "cell_type": "markdown",
   "metadata": {},
   "source": [
    "The following example is a C-style way of finding all non-negative integers that are the sum of three non-negative cubes below a particular bound, and counting them."
   ]
  },
  {
   "cell_type": "code",
   "execution_count": 156,
   "metadata": {},
   "outputs": [
    {
     "name": "stdout",
     "output_type": "stream",
     "text": [
      "[0, 1, 8, 27, 64, 2, 9, 28, 65, 16, 35, 72, 54, 91, 3, 10, 29, 66, 17, 36, 73, 55, 92, 24, 43, 80, 62, 99, 81]\n",
      "There are 29 numbers less than 100 which are themselves a sum of three non-negative cubes.\n"
     ]
    }
   ],
   "source": [
    "N = 100\n",
    "bound = math.ceil(N**(1/3))\n",
    "sum_of_cubes = []\n",
    "for i in range(bound):\n",
    "    for j in range(bound):\n",
    "        for k in range(bound):\n",
    "            n = i**3 + j**3 + k**3\n",
    "            if n >= N:\n",
    "                continue\n",
    "            # check if it's already in the list\n",
    "            in_list = False\n",
    "            for l in range(len(sum_of_cubes)):\n",
    "                if n == sum_of_cubes[l]:\n",
    "                    in_list = True\n",
    "                    break\n",
    "            if not in_list:\n",
    "                sum_of_cubes.append(n)\n",
    "print(sum_of_cubes)\n",
    "print(f'There are {len(sum_of_cubes)} numbers less than {N} which are themselves a sum of three non-negative cubes.')"
   ]
  },
  {
   "cell_type": "markdown",
   "metadata": {},
   "source": [
    "Here is a more pythonic example. Note that we again use the `combinations_with_replacement` function to avoid the looping. We also use nested generator expressions. It might be advisable to separate these and name the inner expression `unfiltered_sum_of_cubes` for example. We also use the python `set` data type to ensure we have unique values. Another way to do this (if another data structure is preferred) is to use the keyword `in`, however the set data type uses hash tables and thus has $\\mathcal{O}(1)$ lookup. The set data type also has the advantage of sorting the values for free when the string representation is formed by the `print` function."
   ]
  },
  {
   "cell_type": "code",
   "execution_count": 168,
   "metadata": {},
   "outputs": [
    {
     "name": "stdout",
     "output_type": "stream",
     "text": [
      "{0, 1, 2, 3, 8, 9, 10, 16, 17, 24, 27, 28, 29, 35, 36, 43, 54, 55, 62, 64, 65, 66, 72, 73, 80, 81, 91, 92, 99}\n",
      "There are 29 numbers less than 100 which are themselves a sum of three non-negative cubes.\n"
     ]
    }
   ],
   "source": [
    "N = 100\n",
    "import math\n",
    "from itertools import combinations_with_replacement\n",
    "bound = math.ceil(N**(1/3))\n",
    "sum_of_cubes = {n for n in \n",
    "                (x**3+y**3+z**3 for x, y, z in combinations_with_replacement(range(bound+1), 3))\n",
    "                if n < N}\n",
    "print(sum_of_cubes)\n",
    "print(f'There are {len(sum_of_cubes)} numbers less than {N} which are themselves a sum of three non-negative cubes.')"
   ]
  },
  {
   "cell_type": "code",
   "execution_count": null,
   "metadata": {},
   "outputs": [],
   "source": []
  }
 ],
 "metadata": {
  "kernelspec": {
   "display_name": "Python 3",
   "language": "python",
   "name": "python3"
  },
  "language_info": {
   "codemirror_mode": {
    "name": "ipython",
    "version": 3
   },
   "file_extension": ".py",
   "mimetype": "text/x-python",
   "name": "python",
   "nbconvert_exporter": "python",
   "pygments_lexer": "ipython3",
   "version": "3.6.9"
  }
 },
 "nbformat": 4,
 "nbformat_minor": 4
}
