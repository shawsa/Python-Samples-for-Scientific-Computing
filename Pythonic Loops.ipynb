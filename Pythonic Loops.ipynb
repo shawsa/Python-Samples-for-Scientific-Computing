{
 "cells": [
  {
   "cell_type": "markdown",
   "metadata": {},
   "source": [
    "I have observed a tendency in my peers to write in a procedural, nested-loop-heavy, index-heavy style reminiscent of C, Fortran, or Matlab. Matlab was heavily influenced by Fortran (citation needed?) and both C and Fortran are fairly low-level languages in which this style is often necessary. Python, however, is a high-level scripting language and has many alternatives to this style. Indices should be avoided, and can be avoided in most cases. A weaker, but similar statement can be made for loops, and in particular nested loops.\n",
    "\n",
    "Often I see people code in the procedural paradigm. Presumably this is because they are primed to approach mathematical algorithms in this way, either by algorithm pseudo code in a textbook, or because they are converting code from another language; or perhaps they are unaware of the alternatives. Functional programming (my preference) and object oriented programming have significant benefits, and ought to be considered when appropriate."
   ]
  },
  {
   "cell_type": "markdown",
   "metadata": {},
   "source": [
    "# Types of Loops"
   ]
  },
  {
   "cell_type": "code",
   "execution_count": null,
   "metadata": {},
   "outputs": [],
   "source": []
  }
 ],
 "metadata": {
  "kernelspec": {
   "display_name": "Python 3",
   "language": "python",
   "name": "python3"
  },
  "language_info": {
   "codemirror_mode": {
    "name": "ipython",
    "version": 3
   },
   "file_extension": ".py",
   "mimetype": "text/x-python",
   "name": "python",
   "nbconvert_exporter": "python",
   "pygments_lexer": "ipython3",
   "version": "3.6.9"
  }
 },
 "nbformat": 4,
 "nbformat_minor": 4
}
