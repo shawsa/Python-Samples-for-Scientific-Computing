{
 "cells": [
  {
   "cell_type": "markdown",
   "metadata": {},
   "source": [
    "I have observed a tendency in my peers to write in a procedural, nested-loop-heavy, index-heavy style reminiscent of C, Fortran, or Matlab. Matlab was heavily influenced by Fortran (citation needed?) and both C and Fortran are fairly low-level languages in which this style is often necessary. Python, however, is a high-level scripting language and has many alternatives to this style. Indices should be avoided, and can be avoided in most cases. A weaker, but similar statement can be made for loops, and in particular nested loops.\n",
    "\n",
    "Often I see people code in the procedural paradigm. Presumably this is because they are primed to approach mathematical algorithms in this way, either by algorithm pseudo code in a textbook, or because they are converting code from another language; or perhaps they are unaware of the alternatives. Functional programming (my preference) and object oriented programming have significant benefits, and ought to be considered when appropriate."
   ]
  },
  {
   "cell_type": "markdown",
   "metadata": {},
   "source": [
    "# Example: Element-wise Squaring"
   ]
  },
  {
   "cell_type": "markdown",
   "metadata": {},
   "source": [
    "The C/Fortran approach is to iterate over indices. This should be avoided in Python as it is slow and less readable than the alternatives. The following code demonstrates three ways to perform element-wise squaring of a Python list, from least Pythonic to most Pythonic. Not only is idomatic Python more readable, it is faster."
   ]
  },
  {
   "cell_type": "code",
   "execution_count": 47,
   "metadata": {},
   "outputs": [
    {
     "name": "stdout",
     "output_type": "stream",
     "text": [
      "[0, 1, 4, 9, 16, 25, 36, 49, 64, 81]\n",
      "[0, 1, 4, 9, 16, 25, 36, 49, 64, 81]\n",
      "[0, 1, 4, 9, 16, 25, 36, 49, 64, 81]\n",
      "[0, 1, 4, 9, 16, 25, 36, 49, 64, 81]\n",
      "\n",
      "Timings:\n",
      "\n",
      "indexing\n",
      "\t34.4 ms ± 186 µs per loop (mean ± std. dev. of 7 runs, 10 loops each)\n",
      "iterating over elements\n",
      "\t31.2 ms ± 172 µs per loop (mean ± std. dev. of 7 runs, 10 loops each)\n",
      "list comprehension\n",
      "\t27.9 ms ± 105 µs per loop (mean ± std. dev. of 7 runs, 10 loops each)\n",
      "map function\n",
      "\t31.3 ms ± 232 µs per loop (mean ± std. dev. of 7 runs, 10 loops each)\n"
     ]
    }
   ],
   "source": [
    "# generate some data\n",
    "xs = list(range(10))\n",
    "\n",
    "# C-style looping over indices\n",
    "# This is unpythonic and strongly discouraged.\n",
    "def element_wise_square_C_like(xs):\n",
    "    new_xs = []\n",
    "    for i in range(len(xs)):\n",
    "        new_xs.append( xs[i]**2 )\n",
    "    return new_xs\n",
    "print(element_wise_square_C_like(xs))\n",
    "\n",
    "# More Pythonic: iterating over elements rather than indices\n",
    "def element_wise_square_iterate_over_element(xs):\n",
    "    new_xs = []\n",
    "    for x in xs:\n",
    "        new_xs.append( x**2 )\n",
    "    return new_xs\n",
    "    \n",
    "print(element_wise_square_iterate_over_element(xs))\n",
    "\n",
    "# List comprehensions are the most Pythonic\n",
    "def element_wise_square_comprehension(xs):\n",
    "    return [x**2 for x in xs]\n",
    "print(element_wise_square_comprehension(xs))\n",
    "\n",
    "# using the map function is a more funtional approach\n",
    "#      in particular, it makes parallelzation trivial\n",
    "def square(x):\n",
    "    return x**2\n",
    "def element_wise_square_map(xs):\n",
    "    return list(map(square, xs))\n",
    "print(element_wise_square_map(xs))\n",
    "\n",
    "n = 10**5\n",
    "xs = list(range(n))\n",
    "print('\\nTimings:\\n')\n",
    "print('indexing\\n\\t', end='')\n",
    "%timeit element_wise_square_C_like(xs)\n",
    "print('iterating over elements\\n\\t', end='')\n",
    "%timeit element_wise_square_iterate_over_element(xs)\n",
    "print('list comprehension\\n\\t', end='')\n",
    "%timeit element_wise_square_comprehension(xs)\n",
    "print('map function\\n\\t', end='')\n",
    "%timeit element_wise_square_map(xs)"
   ]
  },
  {
   "cell_type": "markdown",
   "metadata": {},
   "source": [
    "### Numpy\n",
    "For numerical computation, we often use the package `NumPy`, which is said to *vectorize* operations. Essentially, this means we call a compiled function to perform the looping, which executes much faster than the equivalent Python. **Be warrned:** though Numpy can be much faster, incorrect usage will dramatically slow down your code."
   ]
  },
  {
   "cell_type": "code",
   "execution_count": 50,
   "metadata": {},
   "outputs": [
    {
     "name": "stdout",
     "output_type": "stream",
     "text": [
      "[0, 1, 4, 9, 16, 25, 36, 49, 64, 81]\n",
      "[ 0  1  4  9 16 25 36 49 64 81]\n",
      "[ 0  1  4  9 16 25 36 49 64 81]\n",
      "\n",
      "Timings:\n",
      "\n",
      "vectorized\n",
      "\t72.7 µs ± 1.91 µs per loop (mean ± std. dev. of 7 runs, 10000 loops each)\n",
      "preallocate then loop\n",
      "\t33.9 ms ± 641 µs per loop (mean ± std. dev. of 7 runs, 10 loops each)\n",
      "appending\n",
      "\t3.41 s ± 29.6 ms per loop (mean ± std. dev. of 7 runs, 1 loop each)\n"
     ]
    }
   ],
   "source": [
    "# Numpy must be imported. This is the common convention.\n",
    "import numpy as np\n",
    "#from numpy import *\n",
    "'''\n",
    "Avoid importing numpy in this way. Though it may be annoying to type \n",
    "the prefix \"np.\", you may want to use similarly named functions from\n",
    "other namespaces such as \"math.\" or \"sym.\".\n",
    "'''\n",
    "# create the data\n",
    "xs_array = np.array(range(10))\n",
    "\n",
    "# vectorized - very fast\n",
    "def element_wise_square_numpy_vectorized(xs_array):\n",
    "    return xs_array**2\n",
    "print(element_wise_square_iterate_over_element(xs_array))\n",
    "\n",
    "# pre-allocating and looping over indices - slow\n",
    "def element_wise_square_numpy_preallocated_loop(xs_array):\n",
    "    n = len(xs_array)\n",
    "    new_array = np.empty(n, dtype=int)\n",
    "    for i in range(n):\n",
    "        new_array[i] = xs_array[i]**2\n",
    "    return new_array\n",
    "print(element_wise_square_numpy_preallocated_loop(xs_array))\n",
    "\n",
    "# using np.append - Incredibly slow!\n",
    "def element_wise_square_numpy_append(xs_array):\n",
    "    n = len(xs_array)\n",
    "    new_array = np.array([], dtype=int)\n",
    "    for i in range(n):\n",
    "        new_array = np.append(new_array, xs_array[i]**2)\n",
    "    return new_array\n",
    "print(element_wise_square_numpy_append(xs_array))\n",
    "\n",
    "n = 10**5\n",
    "xs_array = np.array(range(n))\n",
    "print('\\nTimings:\\n')\n",
    "print('vectorized\\n\\t', end='')\n",
    "%timeit element_wise_square_numpy_vectorized(xs_array)\n",
    "print('preallocate then loop\\n\\t', end='')\n",
    "%timeit element_wise_square_numpy_preallocated_loop(xs_array)\n",
    "print('appending\\n\\t', end='')\n",
    "%timeit element_wise_square_numpy_append(xs_array)"
   ]
  },
  {
   "cell_type": "markdown",
   "metadata": {},
   "source": [
    "# Tools for Avoiding Indices"
   ]
  },
  {
   "cell_type": "markdown",
   "metadata": {},
   "source": [
    "### The enumerate function\n",
    "Some algorithms *require* indices as part of the computation, rather than simply used as an index. The following example evaluates a polynomial given an input value and a list of coefficients. In such cases we can use the `enumerate` function to create Pythonic code."
   ]
  },
  {
   "cell_type": "code",
   "execution_count": 35,
   "metadata": {},
   "outputs": [
    {
     "name": "stdout",
     "output_type": "stream",
     "text": [
      "193\n",
      "193\n",
      "193\n",
      "193\n"
     ]
    }
   ],
   "source": [
    "coeffs = [1, 4, 3, 2] # representing the polynomial f(x) = 1 + 4x + 3x^2 + 2x^3\n",
    "x = 4\n",
    "\n",
    "# The C/Fortran style - avoid this\n",
    "def poly_eval_indices(x, coeffs):\n",
    "    val = 0\n",
    "    for i in range(len(coeffs)):\n",
    "        val += coeffs[i]*x**i\n",
    "    return val\n",
    "print(poly_eval_indices(x, coeffs))\n",
    "\n",
    "# It is more pythonic to use the enumerate function and avoid indexing\n",
    "def poly_eval_enumerate(x, coeffs):\n",
    "    val = 0\n",
    "    for i, c in enumerate(coeffs):\n",
    "        val += c*x**i\n",
    "    return val\n",
    "print(poly_eval_enumerate(x, coeffs))\n",
    "\n",
    "# Even better, we can use a list comprehension\n",
    "def poly_eval_list_comprehension(x, coeffs):\n",
    "    return sum([c*x**i for i,c in enumerate(coeffs)])\n",
    "print(poly_eval_list_comprehension(x, coeffs))\n",
    "\n",
    "# Generator comprehensions will save memory\n",
    "def poly_eval_generator_comprehension(x, coeffs):\n",
    "    return sum(c*x**i for i,c in enumerate(coeffs))\n",
    "print(poly_eval_generator_comprehension(x, coeffs))"
   ]
  },
  {
   "cell_type": "markdown",
   "metadata": {},
   "source": [
    "### The Zip Function\n",
    "Often we need coresponding elements from similarly sized lists. The `zip` function allows us to avoid indices."
   ]
  },
  {
   "cell_type": "code",
   "execution_count": 12,
   "metadata": {},
   "outputs": [
    {
     "name": "stdout",
     "output_type": "stream",
     "text": [
      "[10, 12, 14, 16, 18, 20, 22, 24, 26, 28]\n",
      "[10, 12, 14, 16, 18, 20, 22, 24, 26, 28]\n",
      "[10, 12, 14, 16, 18, 20, 22, 24, 26, 28]\n"
     ]
    }
   ],
   "source": [
    "xs = list(range(10))\n",
    "ys = list(range(10, 20))\n",
    "\n",
    "# C/Fortran style - avoid this\n",
    "def pairwise_add_indexing(xs, ys):\n",
    "    ret = []\n",
    "    for i in range(len(xs)):\n",
    "        ret.append(xs[i] + ys[i])\n",
    "    return ret\n",
    "print(pairwise_add_indexing(xs, ys))\n",
    "\n",
    "# using zip\n",
    "def pairwise_add_zip(xs, ys):\n",
    "    ret = []\n",
    "    for x, y in zip(xs, ys):\n",
    "        ret.append(x+y)\n",
    "    return ret\n",
    "print(pairwise_add_zip(xs, ys))\n",
    "\n",
    "# using zip and a comprehension - very pythonic\n",
    "def pairwise_add_comprehension(xs,ys):\n",
    "    return [x+y for x,y in zip(xs,ys)]\n",
    "print(pairwise_add_comprehension(xs, ys))\n",
    "\n",
    "# using starmap - a functional version, perhaps less pythonic\n",
    "from itertools import starmap\n",
    "from operator import add\n",
    "def pairwise_add_star_map(xs,ys):\n",
    "    return list(starmap(add, zip(xs, ys)))\n",
    "print(pairwise_add_comprehension(xs, ys))"
   ]
  },
  {
   "cell_type": "markdown",
   "metadata": {},
   "source": [
    "# Collapsing Nested Loops\n",
    "Python has relevant whitespace. When using many nested loops, the indentation can become significant and cause the code to be less readable. For many applications, this can be improved by using the `iterools.product` function, which iterates over a cartesian product. The following code shows a few ways to find the maximum of a function on a discrete domain."
   ]
  },
  {
   "cell_type": "code",
   "execution_count": 62,
   "metadata": {},
   "outputs": [
    {
     "name": "stdout",
     "output_type": "stream",
     "text": [
      "18\n",
      "18\n",
      "18\n",
      "18\n"
     ]
    }
   ],
   "source": [
    "def foo(a,b,c,d,e):\n",
    "    return (a-b)**(e-d) % c\n",
    "a_domain = [1, 5, 10, 18]\n",
    "b_domain = [-2, 4, 5]\n",
    "c_domain = [13, 15, 19]\n",
    "d_domain = [1, 2, 3, 4]\n",
    "e_domain = [5, 6, 7, 8]\n",
    "\n",
    "# find the max with nested loops\n",
    "my_max = float('-inf')\n",
    "for a in a_domain:\n",
    "    for b in b_domain:\n",
    "        for c in c_domain:\n",
    "            for d in d_domain:\n",
    "                for e in e_domain:\n",
    "                    val = foo(a,b,c,d,e)\n",
    "                    if val > my_max:\n",
    "                        my_max = val\n",
    "print(my_max)\n",
    "\n",
    "# using the product function\n",
    "from itertools import product\n",
    "my_max = float('-inf')\n",
    "for a, b, c, d, e in product(a_domain, b_domain, c_domain, d_domain, e_domain):\n",
    "    val = foo(a,b,c,d,e)\n",
    "    if val > my_max:\n",
    "        my_max = val\n",
    "print(my_max)\n",
    "\n",
    "# using a generator comprehension (more memory efficient than a list comprehension)\n",
    "my_max = max(foo(a,b,c,d,e) for a, b, c, d, e in product(a_domain, b_domain, c_domain, d_domain, e_domain))\n",
    "print(my_max)\n",
    "\n",
    "# a functional approach\n",
    "my_max = max( starmap(foo, product(a_domain, b_domain, c_domain, d_domain, e_domain) ) )\n",
    "print(my_max)"
   ]
  }
 ],
 "metadata": {
  "kernelspec": {
   "display_name": "Python 3",
   "language": "python",
   "name": "python3"
  },
  "language_info": {
   "codemirror_mode": {
    "name": "ipython",
    "version": 3
   },
   "file_extension": ".py",
   "mimetype": "text/x-python",
   "name": "python",
   "nbconvert_exporter": "python",
   "pygments_lexer": "ipython3",
   "version": "3.8.10"
  }
 },
 "nbformat": 4,
 "nbformat_minor": 4
}
